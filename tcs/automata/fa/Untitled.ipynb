{
 "cells": [
  {
   "cell_type": "code",
   "execution_count": 1,
   "id": "b22124ac-6b94-43b4-92ef-471101a89c47",
   "metadata": {},
   "outputs": [
    {
     "name": "stdout",
     "output_type": "stream",
     "text": [
      "/Users/giorgio/github/python_fo/tcs/automata\n"
     ]
    },
    {
     "ename": "ModuleNotFoundError",
     "evalue": "No module named 'tcs'",
     "output_type": "error",
     "traceback": [
      "\u001b[0;31m---------------------------------------------------------------------------\u001b[0m",
      "\u001b[0;31mModuleNotFoundError\u001b[0m                       Traceback (most recent call last)",
      "\u001b[0;32m<ipython-input-1-e930a8e9b4cc>\u001b[0m in \u001b[0;36m<module>\u001b[0;34m\u001b[0m\n\u001b[1;32m      7\u001b[0m \u001b[0;31m# import sys\u001b[0m\u001b[0;34m\u001b[0m\u001b[0;34m\u001b[0m\u001b[0;34m\u001b[0m\u001b[0m\n\u001b[1;32m      8\u001b[0m \u001b[0msys\u001b[0m\u001b[0;34m.\u001b[0m\u001b[0mpath\u001b[0m\u001b[0;34m\u001b[0m\u001b[0;34m\u001b[0m\u001b[0m\n\u001b[0;32m----> 9\u001b[0;31m \u001b[0;32mfrom\u001b[0m \u001b[0mtcs\u001b[0m\u001b[0;34m.\u001b[0m\u001b[0mtools\u001b[0m\u001b[0;34m.\u001b[0m\u001b[0mtools\u001b[0m \u001b[0;32mimport\u001b[0m \u001b[0mTools\u001b[0m\u001b[0;34m\u001b[0m\u001b[0;34m\u001b[0m\u001b[0m\n\u001b[0m\u001b[1;32m     10\u001b[0m \u001b[0;32mfrom\u001b[0m \u001b[0mtcs\u001b[0m\u001b[0;34m.\u001b[0m\u001b[0mautomata\u001b[0m\u001b[0;34m.\u001b[0m\u001b[0mfa\u001b[0m\u001b[0;34m.\u001b[0m\u001b[0mdfa\u001b[0m \u001b[0;32mimport\u001b[0m \u001b[0mDFA\u001b[0m\u001b[0;34m\u001b[0m\u001b[0;34m\u001b[0m\u001b[0m\n\u001b[1;32m     11\u001b[0m \u001b[0;32mfrom\u001b[0m \u001b[0mtcs\u001b[0m\u001b[0;34m.\u001b[0m\u001b[0mautomata\u001b[0m\u001b[0;34m.\u001b[0m\u001b[0mfa\u001b[0m\u001b[0;34m.\u001b[0m\u001b[0mnfa\u001b[0m \u001b[0;32mimport\u001b[0m \u001b[0mNFA\u001b[0m\u001b[0;34m\u001b[0m\u001b[0;34m\u001b[0m\u001b[0m\n",
      "\u001b[0;31mModuleNotFoundError\u001b[0m: No module named 'tcs'"
     ]
    }
   ],
   "source": [
    "%cd ..\n",
    "#%%\n",
    "import sys\n",
    "sys.path.insert(0, \"..\")\n",
    "# sys.path\n",
    "#import paths  # noqa\n",
    "# import sys\n",
    "sys.path\n",
    "from tcs.tools.tools import Tools\n",
    "from tcs.automata.fa.dfa import DFA\n",
    "from tcs.automata.fa.nfa import NFA\n",
    "#import tcs.automata.fa.nfa as nfa\n",
    "from tcs.regexpr.reg_expression import RegEx"
   ]
  },
  {
   "cell_type": "code",
   "execution_count": null,
   "id": "32b00db2-ff66-4da3-9e0b-2baee363c950",
   "metadata": {},
   "outputs": [],
   "source": [
    "re1 = RegEx(alphabet={'a', 'b'},\n",
    "            expression=(Tools.simple_sequence('(a+b).a.(a+b).b*')))"
   ]
  },
  {
   "cell_type": "code",
   "execution_count": null,
   "id": "8dcd5ad1-1df7-4ac5-9e83-cc13ff3cf388",
   "metadata": {},
   "outputs": [],
   "source": [
    "re1.nfa.dfa.compute(Tools.tokens('aab'))"
   ]
  }
 ],
 "metadata": {
  "kernelspec": {
   "display_name": "Python 3.8",
   "language": "python",
   "name": "python3.8"
  },
  "language_info": {
   "codemirror_mode": {
    "name": "ipython",
    "version": 3
   },
   "file_extension": ".py",
   "mimetype": "text/x-python",
   "name": "python",
   "nbconvert_exporter": "python",
   "pygments_lexer": "ipython3",
   "version": "3.8.0"
  }
 },
 "nbformat": 4,
 "nbformat_minor": 5
}
