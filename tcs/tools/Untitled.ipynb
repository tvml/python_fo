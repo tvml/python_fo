{
 "cells": [
  {
   "cell_type": "markdown",
   "id": "8342f60a-c944-41e7-881c-58a09b401a9d",
   "metadata": {},
   "source": [
    "Efficacia vaccino rispetto a morte superiore al 90%. Assumiamo 90. Ne consegue che un vaccinato ha una probabilità di morire di COVID pari al 10% di quella di un non vaccinato"
   ]
  },
  {
   "cell_type": "markdown",
   "id": "ccc92895-b42d-495a-90db-d40520df201e",
   "metadata": {},
   "source": [
    "$$p(D|V)=0.1*p(D|\\overline{V})$$"
   ]
  },
  {
   "cell_type": "markdown",
   "id": "eab8ba92-1c4c-4a22-8e14-51758f42c4ec",
   "metadata": {},
   "source": [
    "Dal che risulta $$p(D|V)=0.09$$ e $$p(D|\\overline{V})=0.91$$"
   ]
  },
  {
   "cell_type": "code",
   "execution_count": 5,
   "id": "57e6d075-a7f4-4d32-8b34-fa27669d8317",
   "metadata": {},
   "outputs": [
    {
     "data": {
      "text/plain": [
       "0.09090909090909091"
      ]
     },
     "execution_count": 5,
     "metadata": {},
     "output_type": "execute_result"
    }
   ],
   "source": [
    "0.1/1.1"
   ]
  },
  {
   "cell_type": "markdown",
   "id": "f93a1cfd-885a-4614-a2e7-ab4ae6158147",
   "metadata": {},
   "source": [
    "Assumiamo che tutti i decessi avvengano in soggetti aventi più di 55 anni (fasce a rischio)"
   ]
  },
  {
   "cell_type": "code",
   "execution_count": 4,
   "id": "dad3bda2-cc00-4df3-8c28-5c503cb4d506",
   "metadata": {},
   "outputs": [
    {
     "data": {
      "text/plain": [
       "0.8695652173913043"
      ]
     },
     "execution_count": 4,
     "metadata": {},
     "output_type": "execute_result"
    }
   ],
   "source": [
    "20/23"
   ]
  },
  {
   "cell_type": "markdown",
   "id": "5ec52e68-c57d-452e-951a-18be059ae54d",
   "metadata": {},
   "source": [
    "Attualmente in Italia ci sono più di 3 milioni di non vaccinati. Assumiamo siano 3 milioni. Inoltre, ci sono in totale circa 23 milioni di persone in totale in quella fascia di età. Quindi nella fascia a rischio 20 milioni sono vaccinati e 3 milioni no. Quindi $$p(V)=20/23=0.87$$"
   ]
  },
  {
   "cell_type": "code",
   "execution_count": 2,
   "id": "0b883e5e-3b46-4fa0-9644-5f02b96e57b0",
   "metadata": {},
   "outputs": [
    {
     "data": {
      "text/plain": [
       "22286"
      ]
     },
     "execution_count": 2,
     "metadata": {},
     "output_type": "execute_result"
    }
   ],
   "source": [
    "p_dv=.09\n",
    "p_v=.87\n",
    "p_d=p_dv*p_v+(1-p_dv\n",
    "p_vd=p_dv*p_v/()"
   ]
  },
  {
   "cell_type": "code",
   "execution_count": null,
   "id": "30a3f9d1-b741-4673-906c-cd4520475411",
   "metadata": {},
   "outputs": [],
   "source": [
    "Ci chiediamo, avendo osservato 50 morti, quale sia una stima di $p(V|D)$"
   ]
  },
  {
   "cell_type": "markdown",
   "id": "590e7d52-e089-44d9-90f2-bf710b58e329",
   "metadata": {},
   "source": [
    "Dei 50 morti, ci aspettiamo che i 10/11 siano "
   ]
  }
 ],
 "metadata": {
  "kernelspec": {
   "display_name": "Python 3.7",
   "language": "python",
   "name": "python3.7"
  },
  "language_info": {
   "codemirror_mode": {
    "name": "ipython",
    "version": 3
   },
   "file_extension": ".py",
   "mimetype": "text/x-python",
   "name": "python",
   "nbconvert_exporter": "python",
   "pygments_lexer": "ipython3",
   "version": "3.7.7"
  }
 },
 "nbformat": 4,
 "nbformat_minor": 5
}
