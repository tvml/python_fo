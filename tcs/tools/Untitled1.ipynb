{
 "cells": [
  {
   "cell_type": "markdown",
   "id": "5eefc5ed-af06-4bb7-978d-a254e37972b9",
   "metadata": {},
   "source": [
    "$$p(D|V)=10\\cdot p(D|\\overline{V})$$\n",
    "\n",
    "$$NV=3\\times 10^6$$\n",
    "\n",
    "$$N=23\\times 10^6$$"
   ]
  },
  {
   "cell_type": "code",
   "execution_count": 1,
   "id": "ef5eb8e4-b4b9-40d9-9ce1-9d816f92e927",
   "metadata": {},
   "outputs": [],
   "source": []
  },
  {
   "cell_type": "code",
   "execution_count": null,
   "id": "aa2cb90c-169f-420d-9c2d-d38892185fcc",
   "metadata": {},
   "outputs": [],
   "source": []
  }
 ],
 "metadata": {
  "kernelspec": {
   "display_name": "Python 3.7",
   "language": "python",
   "name": "python3.7"
  },
  "language_info": {
   "codemirror_mode": {
    "name": "ipython",
    "version": 3
   },
   "file_extension": ".py",
   "mimetype": "text/x-python",
   "name": "python",
   "nbconvert_exporter": "python",
   "pygments_lexer": "ipython3",
   "version": "3.7.7"
  }
 },
 "nbformat": 4,
 "nbformat_minor": 5
}
